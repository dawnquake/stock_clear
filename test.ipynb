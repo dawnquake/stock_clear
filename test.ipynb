{
 "cells": [
  {
   "cell_type": "code",
   "execution_count": 31,
   "metadata": {},
   "outputs": [
    {
     "data": {
      "application/javascript": "\n        if (window._pyforest_update_imports_cell) { window._pyforest_update_imports_cell('import glob'); }\n    ",
      "text/plain": [
       "<IPython.core.display.Javascript object>"
      ]
     },
     "metadata": {},
     "output_type": "display_data"
    },
    {
     "name": "stdout",
     "output_type": "stream",
     "text": [
      "http://127.0.0.1:8050\n",
      "['http://127.0.0.1:8050/product/1000001', 'http://127.0.0.1:8050/product/1000020', 'http://127.0.0.1:8050/product/1000030']\n"
     ]
    }
   ],
   "source": [
    "homepage_carousel_paths = glob.glob('static/homepage/homepage_carousel/*')\n",
    "\n",
    "ROOT_URL = 'https://www.alibabaro.com'\n",
    "\n",
    "from pages.local_settings import LOCAL_URL\n",
    "print(LOCAL_URL)\n",
    "\n",
    "\n",
    "\n",
    "\n",
    "lines = open('db/homepage_carousel_links.txt', 'r').read().splitlines()[1:]\n",
    "homepage_carousel_links = [LOCAL_URL + '/{}'.format(line) for line in lines]\n",
    "\n",
    "print(homepage_carousel_links)\n",
    "\n",
    "carousel = [{'src': path,'href': link} for path, link in zip(homepage_carousel_paths, homepage_carousel_links)]\n"
   ]
  }
 ],
 "metadata": {
  "kernelspec": {
   "display_name": "Python 3",
   "language": "python",
   "name": "python3"
  },
  "language_info": {
   "codemirror_mode": {
    "name": "ipython",
    "version": 3
   },
   "file_extension": ".py",
   "mimetype": "text/x-python",
   "name": "python",
   "nbconvert_exporter": "python",
   "pygments_lexer": "ipython3",
   "version": "3.8.10"
  }
 },
 "nbformat": 4,
 "nbformat_minor": 2
}
