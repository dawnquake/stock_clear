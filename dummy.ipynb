{
 "cells": [
  {
   "cell_type": "code",
   "execution_count": 20,
   "metadata": {},
   "outputs": [
    {
     "name": "stdout",
     "output_type": "stream",
     "text": [
      "   ProductID ProductName  ProductPrice         ProductDesc  \\\n",
      "0    1000001     Jacheta            20    This is a jacket   \n",
      "1    1000020      Tricou            12    This is a tricou   \n",
      "2    1000030    Pantalon            15  This is a pantalon   \n",
      "3    1000050       Fusta            56     This is a fusta   \n",
      "4    1000053   Jacheta B            50           Jacheta B   \n",
      "5    1000090  Pantalon B            40          Pantalon B   \n",
      "6    1000012     Compleu           100   This is a compleu   \n",
      "\n",
      "                    ProductImageLink  \n",
      "0  static/product/1000001\\slide1.jpg  \n",
      "1  static/product/1000020\\slide1.jpg  \n",
      "2  static/product/1000030\\slide1.jpg  \n",
      "3  static/product/1000050\\slide1.jpg  \n",
      "4  static/product/1000053\\slide1.jpg  \n",
      "5  static/product/1000090\\slide1.jpg  \n",
      "6  static/product/1000012\\slide1.jpg  \n"
     ]
    }
   ],
   "source": [
    "import pandas as pd\n",
    "import glob\n",
    "\n",
    "df = pd.read_csv('db/products_db.csv')\n",
    "\n",
    "df['ProductImageLink'] = '#'\n",
    "\n",
    "for index,row in df.iterrows():\n",
    "    df.loc[index, 'ProductImageLink'] = glob.glob('static/product/{}/*'.format(df.loc[index, 'ProductID']))[0]\n",
    "\n",
    "print(df)"
   ]
  },
  {
   "cell_type": "code",
   "execution_count": 30,
   "metadata": {},
   "outputs": [
    {
     "data": {
      "text/plain": [
       "'Jacheta'"
      ]
     },
     "execution_count": 30,
     "metadata": {},
     "output_type": "execute_result"
    }
   ],
   "source": [
    "df.loc[0, 'ProductName']"
   ]
  },
  {
   "cell_type": "code",
   "execution_count": 18,
   "metadata": {},
   "outputs": [
    {
     "data": {
      "text/plain": [
       "['static/product/1000020\\\\slide1.jpg',\n",
       " 'static/product/1000020\\\\slide2.jpg',\n",
       " 'static/product/1000020\\\\slide3.jpg']"
      ]
     },
     "execution_count": 18,
     "metadata": {},
     "output_type": "execute_result"
    }
   ],
   "source": [
    "glob.glob('static/product/{}/*'.format(df.loc[1, 'ProductID']))"
   ]
  }
 ],
 "metadata": {
  "kernelspec": {
   "display_name": ".venv",
   "language": "python",
   "name": "python3"
  },
  "language_info": {
   "codemirror_mode": {
    "name": "ipython",
    "version": 3
   },
   "file_extension": ".py",
   "mimetype": "text/x-python",
   "name": "python",
   "nbconvert_exporter": "python",
   "pygments_lexer": "ipython3",
   "version": "3.8.10"
  }
 },
 "nbformat": 4,
 "nbformat_minor": 2
}
